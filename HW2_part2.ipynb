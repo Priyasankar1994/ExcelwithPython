{
 "cells": [
  {
   "cell_type": "markdown",
   "id": "baaad2f2",
   "metadata": {},
   "source": [
    "# Import Modules"
   ]
  },
  {
   "cell_type": "code",
   "execution_count": 1,
   "id": "f6afef8d",
   "metadata": {},
   "outputs": [],
   "source": [
    "import pandas as pd\n",
    "import openpyxl as xl\n",
    "from pathlib import Path"
   ]
  },
  {
   "cell_type": "markdown",
   "id": "64466bad",
   "metadata": {},
   "source": [
    "# 1. Initialize path for input and output location"
   ]
  },
  {
   "cell_type": "code",
   "execution_count": 2,
   "id": "3abc1fab",
   "metadata": {},
   "outputs": [
    {
     "name": "stdout",
     "output_type": "stream",
     "text": [
      "C:\\Users\\Students\\Documents\\PriyaSankar_Homework\\hw2_files_s22\\HW2_part2\n"
     ]
    }
   ],
   "source": [
    "XL_NAME = 'BCM.xlsx'\n",
    "cwd = str(Path.cwd())\n",
    "print(cwd)\n",
    "XL_LOCATION = cwd + '\\\\output\\\\' + XL_NAME\n",
    "CSV_FOLDER = cwd + '\\\\data\\\\logs'\n",
    "CSV_FILES = Path(CSV_FOLDER).glob('*.csv')"
   ]
  },
  {
   "cell_type": "markdown",
   "id": "ab2dc162",
   "metadata": {},
   "source": [
    "# 2.Create blank Excel file named BCM.xlsx"
   ]
  },
  {
   "cell_type": "code",
   "execution_count": 3,
   "id": "cb9fadd4",
   "metadata": {},
   "outputs": [],
   "source": [
    "wb = xl.Workbook()\n",
    "wb.save(filename=XL_LOCATION)"
   ]
  },
  {
   "cell_type": "markdown",
   "id": "5d3a06a9",
   "metadata": {},
   "source": [
    "# 3.Insert the contents of each csv into a new sheet in BCM.xlsx"
   ]
  },
  {
   "cell_type": "code",
   "execution_count": 4,
   "id": "4ced55f0",
   "metadata": {},
   "outputs": [],
   "source": [
    "header_row = [\"datetime\", \"scale\", \"temperature\"]\n",
    "xl_file = pd.ExcelWriter(XL_LOCATION)\n",
    "for files in CSV_FILES:\n",
    "    sheet_name = files.stem\n",
    "    data_frame = pd.read_csv(files, names=header_row)\n",
    "    data_frame.to_excel(xl_file, sheet_name=sheet_name, index=False)\n",
    "xl_file.close()"
   ]
  },
  {
   "cell_type": "markdown",
   "id": "288dfb81",
   "metadata": {},
   "source": [
    "# 4.\tAdd the formulas"
   ]
  },
  {
   "cell_type": "code",
   "execution_count": 5,
   "id": "8449ddf0",
   "metadata": {},
   "outputs": [],
   "source": [
    "wb = xl.load_workbook(XL_LOCATION)\n",
    "for item in wb.sheetnames:\n",
    "    ws = wb[item]\n",
    "    row_range = ws.max_row\n",
    "    # **************************************************\n",
    "    # Update the minimum temperature at G2, H2\n",
    "    ws['G2'].value = \"min_temp\"\n",
    "    data = '=MIN(C2:C' + str(row_range) + ')'\n",
    "    ws['H2'].value = data\n",
    "    # **************************************************\n",
    "    # Update the maximum temperature at G3, H3\n",
    "    ws['G3'].value = \"max_temp\"\n",
    "    data = '=MAX(C2:C' + str(row_range) + ')'\n",
    "    ws['H3'].value = data\n",
    "    # **************************************************\n",
    "    # Update the mean temperature at G4, H4\n",
    "    ws['G4'].value = \"mean_temp\"\n",
    "    data = '=AVERAGE(C2:C' + str(row_range) + ')'\n",
    "    ws['H4'].value = data\n",
    "    # **************************************************\n",
    "    # Update the minimum date at G6, H6\n",
    "    ws['G6'].value = \"min_date\"\n",
    "    data = 'A2'\n",
    "    ws['H6'].value = ws[data].value\n",
    "    # **************************************************\n",
    "    # Update the minimum date at G7, H7\n",
    "    ws['G7'].value = \"max_date\"\n",
    "    data = 'A' + str(row_range)\n",
    "    ws['H7'].value = ws[data].value\n",
    "wb.save(XL_LOCATION)"
   ]
  },
  {
   "cell_type": "markdown",
   "id": "8e426b78",
   "metadata": {},
   "source": [
    "# EXTRA CREDIT"
   ]
  },
  {
   "cell_type": "code",
   "execution_count": 42,
   "id": "fad7a59a",
   "metadata": {},
   "outputs": [
    {
     "name": "stdout",
     "output_type": "stream",
     "text": [
      "['AES', 'BCM']\n"
     ]
    }
   ],
   "source": [
    "# Scan through the csv folder for all possible filenames\n",
    "CSV_FILES = Path(CSV_FOLDER).glob('*.csv')\n",
    "XL_FILE_LIST = []\n",
    "for files in CSV_FILES:\n",
    "    file_name = files.stem\n",
    "    # Split the sheet names by '-' and select the 0th element to get the name of file\n",
    "    # BCM-E-tCenter-Medium --> BCM\n",
    "    file_name = file_name.split(\"-\")[0]\n",
    "    # Search for BCM in XL_FILE_LIST and append if not found\n",
    "    if file_name not in XL_FILE_LIST:\n",
    "        XL_FILE_LIST.append(file_name)\n",
    "print(XL_FILE_LIST)\n",
    "\n",
    "# Iterate against each XL_FILE_LIST to create a workbook\n",
    "for item in XL_FILE_LIST:\n",
    "    wb = xl.Workbook()\n",
    "    output_path = cwd + '\\\\output\\\\' + item + '.xlsx'\n",
    "    wb.save(output_path)"
   ]
  },
  {
   "cell_type": "code",
   "execution_count": 43,
   "id": "fd2f5210",
   "metadata": {},
   "outputs": [],
   "source": [
    "# Repeat step 3 and add a condition to check for CSV files to export to relevant xlsx file\n",
    "# BCM-E-tCenter-Medium.csv goes to BCM.xlsx\n",
    "# AEM-E-tCenter-Medium.csv goes to AEM.xlsx\n",
    "# Iterate against each XL_FILE_LIST\n",
    "for item in XL_FILE_LIST:\n",
    "    output_path = cwd + '\\\\output\\\\' + item + '.xlsx'\n",
    "    xl_file = pd.ExcelWriter(output_path)\n",
    "    CSV_FILES = Path(CSV_FOLDER).glob('*.csv')\n",
    "    for files in CSV_FILES:\n",
    "        sheet_name = files.stem\n",
    "        # Add this condition to check for sheet name against the xl file name\n",
    "        if sheet_name.startswith(item):\n",
    "            data_frame = pd.read_csv(files, names=header_row)\n",
    "            data_frame.to_excel(xl_file, sheet_name=sheet_name, index=False)\n",
    "    xl_file.close()"
   ]
  },
  {
   "cell_type": "code",
   "execution_count": null,
   "id": "bea3a9bc",
   "metadata": {},
   "outputs": [],
   "source": []
  }
 ],
 "metadata": {
  "kernelspec": {
   "display_name": "Python 3 (ipykernel)",
   "language": "python",
   "name": "python3"
  },
  "language_info": {
   "codemirror_mode": {
    "name": "ipython",
    "version": 3
   },
   "file_extension": ".py",
   "mimetype": "text/x-python",
   "name": "python",
   "nbconvert_exporter": "python",
   "pygments_lexer": "ipython3",
   "version": "3.9.7"
  }
 },
 "nbformat": 4,
 "nbformat_minor": 5
}
